{
  "nbformat": 4,
  "nbformat_minor": 0,
  "metadata": {
    "colab": {
      "name": "command_line.ipynb",
      "provenance": [],
      "authorship_tag": "ABX9TyNDCYf6y9wAdcBadJcREDfy",
      "include_colab_link": true
    },
    "kernelspec": {
      "name": "python3",
      "display_name": "Python 3"
    },
    "language_info": {
      "name": "python"
    }
  },
  "cells": [
    {
      "cell_type": "markdown",
      "metadata": {
        "id": "view-in-github",
        "colab_type": "text"
      },
      "source": [
        "<a href=\"https://colab.research.google.com/github/anashr18/my_rl/blob/main/command_line.ipynb\" target=\"_parent\"><img src=\"https://colab.research.google.com/assets/colab-badge.svg\" alt=\"Open In Colab\"/></a>"
      ]
    },
    {
      "cell_type": "code",
      "source": [
        "from google.colab import drive\n",
        "drive.mount('/content/drive')"
      ],
      "metadata": {
        "colab": {
          "base_uri": "https://localhost:8080/"
        },
        "id": "qKSicZLtYIGT",
        "outputId": "c79213e9-96be-4aab-eb5c-9b84fe4ab0bf"
      },
      "execution_count": null,
      "outputs": [
        {
          "output_type": "stream",
          "name": "stdout",
          "text": [
            "Mounted at /content/drive\n"
          ]
        }
      ]
    },
    {
      "cell_type": "code",
      "source": [
        "%cd /content/drive/My Drive/Deep-Reinforcement-Learning-Hands-On-Second-Edition/RL/Cont_action\n",
        "!ls"
      ],
      "metadata": {
        "colab": {
          "base_uri": "https://localhost:8080/"
        },
        "id": "kn1tU1G4YaEh",
        "outputId": "abf43570-ed05-4fcc-e481-d32c16bea2cb"
      },
      "execution_count": null,
      "outputs": [
        {
          "output_type": "stream",
          "name": "stdout",
          "text": [
            "/content/drive/My Drive/Deep-Reinforcement-Learning-Hands-On-Second-Edition/RL/Cont_action\n",
            "command_line.ipynb  PPO.ipynb  Untitled0.ipynb\n"
          ]
        }
      ]
    },
    {
      "cell_type": "code",
      "source": [
        "!pwd"
      ],
      "metadata": {
        "colab": {
          "base_uri": "https://localhost:8080/"
        },
        "id": "RltGRc5GYiGj",
        "outputId": "190122f5-852f-40d0-f33a-dba453bc4fe2"
      },
      "execution_count": null,
      "outputs": [
        {
          "output_type": "stream",
          "name": "stdout",
          "text": [
            "/content/drive/My Drive/Deep-Reinforcement-Learning-Hands-On-Second-Edition/RL/Cont_action\n"
          ]
        }
      ]
    },
    {
      "cell_type": "code",
      "source": [
        "!python --version\n"
      ],
      "metadata": {
        "colab": {
          "base_uri": "https://localhost:8080/"
        },
        "id": "Gzo55pUBX4uL",
        "outputId": "aa383f6a-9b80-4528-acc0-5faeee425d08"
      },
      "execution_count": null,
      "outputs": [
        {
          "output_type": "stream",
          "name": "stdout",
          "text": [
            "Python 3.7.13\n"
          ]
        }
      ]
    },
    {
      "cell_type": "code",
      "source": [
        "!pip install wandb"
      ],
      "metadata": {
        "id": "8s6hnlMVaMrV"
      },
      "execution_count": null,
      "outputs": []
    },
    {
      "cell_type": "code",
      "source": [
        "!ipython nbconvert PPO.ipynb --to python"
      ],
      "metadata": {
        "colab": {
          "base_uri": "https://localhost:8080/"
        },
        "id": "rO_IvsgiZp9E",
        "outputId": "6dba4d61-2f94-47f9-d6ce-1920b8aa9040"
      },
      "execution_count": null,
      "outputs": [
        {
          "output_type": "stream",
          "name": "stdout",
          "text": [
            "[TerminalIPythonApp] WARNING | Subcommand `ipython nbconvert` is deprecated and will be removed in future versions.\n",
            "[TerminalIPythonApp] WARNING | You likely want to use `jupyter nbconvert` in the future\n",
            "[NbConvertApp] Converting notebook PPO.ipynb to python\n",
            "[NbConvertApp] Writing 1840 bytes to PPO.py\n"
          ]
        }
      ]
    },
    {
      "cell_type": "code",
      "source": [
        "!python PPO.py -h"
      ],
      "metadata": {
        "colab": {
          "base_uri": "https://localhost:8080/"
        },
        "id": "Pi2OjuLbjmn7",
        "outputId": "f5fdda90-0dee-4fac-8bd9-a51316712d31"
      },
      "execution_count": null,
      "outputs": [
        {
          "output_type": "stream",
          "name": "stdout",
          "text": [
            "usage: PPO.py [-h] [--exp-name EXP_NAME] [--seed SEED]\n",
            "              [--torch-deterministic [TORCH_DETERMINISTIC]] [--cuda [CUDA]]\n",
            "              [--track [TRACK]] [--wandb-project-name WANDB_PROJECT_NAME]\n",
            "              [--wandb-entity WANDB_ENTITY] [--env-id ENV_ID]\n",
            "\n",
            "optional arguments:\n",
            "  -h, --help            show this help message and exit\n",
            "  --exp-name EXP_NAME   the name of this experiment\n",
            "  --seed SEED           seed of the experiment\n",
            "  --torch-deterministic [TORCH_DETERMINISTIC]\n",
            "                        if toggled, `torch.backends.cudnn.deterministic=False`\n",
            "  --cuda [CUDA]         if toggled, cuda will be enabled by default\n",
            "  --track [TRACK]       if toggled, this experiment will be tracked with\n",
            "                        Weights and Biases\n",
            "  --wandb-project-name WANDB_PROJECT_NAME\n",
            "                        the wandb's project name\n",
            "  --wandb-entity WANDB_ENTITY\n",
            "                        the entity (team) of wandb's project\n",
            "  --env-id ENV_ID       the id of the environment\n"
          ]
        }
      ]
    },
    {
      "cell_type": "code",
      "execution_count": null,
      "metadata": {
        "colab": {
          "base_uri": "https://localhost:8080/"
        },
        "id": "mS2r0i2uXxiM",
        "outputId": "74fb899e-5c3e-406d-c37b-39f64390ba81"
      },
      "outputs": [
        {
          "output_type": "stream",
          "name": "stdout",
          "text": [
            "\u001b[34m\u001b[1mwandb\u001b[0m: (1) Create a W&B account\n",
            "\u001b[34m\u001b[1mwandb\u001b[0m: (2) Use an existing W&B account\n",
            "\u001b[34m\u001b[1mwandb\u001b[0m: (3) Don't visualize my results\n",
            "\u001b[34m\u001b[1mwandb\u001b[0m: Enter your choice: 1\n",
            "\u001b[34m\u001b[1mwandb\u001b[0m: You chose 'Create a W&B account'\n",
            "\u001b[34m\u001b[1mwandb\u001b[0m: Create an account here: https://wandb.ai/authorize?signup=true\n",
            "\u001b[34m\u001b[1mwandb\u001b[0m: Paste an API key from your profile and hit enter, or press ctrl+c to quit: \n",
            "\u001b[34m\u001b[1mwandb\u001b[0m: Appending key for api.wandb.ai to your netrc file: /root/.netrc\n",
            "\u001b[34m\u001b[1mwandb\u001b[0m: Tracking run with wandb version 0.12.21\n",
            "\u001b[34m\u001b[1mwandb\u001b[0m: Run data is saved locally in \u001b[35m\u001b[1m/content/drive/MyDrive/Deep-Reinforcement-Learning-Hands-On-Second-Edition/RL/Cont_action/wandb/run-20220727_165355-duyhaqmd\u001b[0m\n",
            "\u001b[34m\u001b[1mwandb\u001b[0m: Run \u001b[1m`wandb offline`\u001b[0m to turn off syncing.\n",
            "\u001b[34m\u001b[1mwandb\u001b[0m: Syncing run \u001b[33mCartPole-v1__PPO__1__1658940721\u001b[0m\n",
            "\u001b[34m\u001b[1mwandb\u001b[0m: ⭐️ View project at \u001b[34m\u001b[4mhttps://wandb.ai/anashr18/cleanRL\u001b[0m\n",
            "\u001b[34m\u001b[1mwandb\u001b[0m: 🚀 View run at \u001b[34m\u001b[4mhttps://wandb.ai/anashr18/cleanRL/runs/duyhaqmd\u001b[0m\n",
            "\u001b[34m\u001b[1mwandb\u001b[0m: Waiting for W&B process to finish... \u001b[32m(success).\u001b[0m\n",
            "\u001b[34m\u001b[1mwandb\u001b[0m:                                                                                \n",
            "\u001b[34m\u001b[1mwandb\u001b[0m: W&B sync reduced upload amount by 17.9%             \n",
            "\u001b[34m\u001b[1mwandb\u001b[0m: Synced \u001b[33mCartPole-v1__PPO__1__1658940721\u001b[0m: \u001b[34m\u001b[4mhttps://wandb.ai/anashr18/cleanRL/runs/duyhaqmd\u001b[0m\n",
            "\u001b[34m\u001b[1mwandb\u001b[0m: Synced 4 W&B file(s), 0 media file(s), 0 artifact file(s) and 1 other file(s)\n",
            "\u001b[34m\u001b[1mwandb\u001b[0m: Find logs at: \u001b[35m\u001b[1m./wandb/run-20220727_165355-duyhaqmd/logs\u001b[0m\n"
          ]
        }
      ],
      "source": [
        "!python PPO.py \\\n",
        "  --track "
      ]
    },
    {
      "cell_type": "code",
      "source": [
        "!python DQN_pong.py \\\n",
        "  --env PongNoFrameskip-v4 \\\n",
        "  # --cuda False \\"
      ],
      "metadata": {
        "id": "mkP9a6N3c4Me"
      },
      "execution_count": null,
      "outputs": []
    }
  ]
}